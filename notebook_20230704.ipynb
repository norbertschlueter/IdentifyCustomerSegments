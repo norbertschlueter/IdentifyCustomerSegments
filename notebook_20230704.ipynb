{
 "cells": [
  {
   "cell_type": "markdown",
   "metadata": {},
   "source": [
    "# Project: Identify Customer Segments\n",
    "\n",
    "In this project, you will apply unsupervised learning techniques to identify segments of the population that form the core customer base for a mail-order sales company in Germany. These segments can then be used to direct marketing campaigns towards audiences that will have the highest expected rate of returns. The data that you will use has been provided by our partners at Bertelsmann Arvato Analytics, and represents a real-life data science task.\n",
    "\n",
    "This notebook will help you complete this task by providing a framework within which you will perform your analysis steps. In each step of the project, you will see some text describing the subtask that you will perform, followed by one or more code cells for you to complete your work. **Feel free to add additional code and markdown cells as you go along so that you can explore everything in precise chunks.** The code cells provided in the base template will outline only the major tasks, and will usually not be enough to cover all of the minor tasks that comprise it.\n",
    "\n",
    "It should be noted that while there will be precise guidelines on how you should handle certain tasks in the project, there will also be places where an exact specification is not provided. **There will be times in the project where you will need to make and justify your own decisions on how to treat the data.** These are places where there may not be only one way to handle the data. In real-life tasks, there may be many valid ways to approach an analysis task. One of the most important things you can do is clearly document your approach so that other scientists can understand the decisions you've made.\n",
    "\n",
    "At the end of most sections, there will be a Markdown cell labeled **Discussion**. In these cells, you will report your findings for the completed section, as well as document the decisions that you made in your approach to each subtask. **Your project will be evaluated not just on the code used to complete the tasks outlined, but also your communication about your observations and conclusions at each stage.**"
   ]
  },
  {
   "cell_type": "code",
   "execution_count": null,
   "metadata": {},
   "outputs": [],
   "source": [
    "# import libraries here; add more as necessary\n",
    "import numpy as np\n",
    "import pandas as pd\n",
    "import matplotlib.pyplot as plt\n",
    "import seaborn as sns\n",
    "\n",
    "# magic word for producing visualizations in notebook\n",
    "%matplotlib inline\n",
    "\n",
    "'''\n",
    "Import note: The classroom currently uses sklearn version 0.19.\n",
    "If you need to use an imputer, it is available in sklearn.preprocessing.Imputer,\n",
    "instead of sklearn.impute as in newer versions of sklearn.\n",
    "'''"
   ]
  },
  {
   "cell_type": "markdown",
   "metadata": {},
   "source": [
    "### Step 0: Load the Data\n",
    "\n",
    "There are four files associated with this project (not including this one):\n",
    "\n",
    "- `Udacity_AZDIAS_Subset.csv`: Demographics data for the general population of Germany; 891211 persons (rows) x 85 features (columns).\n",
    "- `Udacity_CUSTOMERS_Subset.csv`: Demographics data for customers of a mail-order company; 191652 persons (rows) x 85 features (columns).\n",
    "- `Data_Dictionary.md`: Detailed information file about the features in the provided datasets.\n",
    "- `AZDIAS_Feature_Summary.csv`: Summary of feature attributes for demographics data; 85 features (rows) x 4 columns\n",
    "\n",
    "Each row of the demographics files represents a single person, but also includes information outside of individuals, including information about their household, building, and neighborhood. You will use this information to cluster the general population into groups with similar demographic properties. Then, you will see how the people in the customers dataset fit into those created clusters. The hope here is that certain clusters are over-represented in the customers data, as compared to the general population; those over-represented clusters will be assumed to be part of the core userbase. This information can then be used for further applications, such as targeting for a marketing campaign.\n",
    "\n",
    "To start off with, load in the demographics data for the general population into a pandas DataFrame, and do the same for the feature attributes summary. Note for all of the `.csv` data files in this project: they're semicolon (`;`) delimited, so you'll need an additional argument in your [`read_csv()`](https://pandas.pydata.org/pandas-docs/stable/generated/pandas.read_csv.html) call to read in the data properly. Also, considering the size of the main dataset, it may take some time for it to load completely.\n",
    "\n",
    "Once the dataset is loaded, it's recommended that you take a little bit of time just browsing the general structure of the dataset and feature summary file. You'll be getting deep into the innards of the cleaning in the first major step of the project, so gaining some general familiarity can help you get your bearings."
   ]
  },
  {
   "cell_type": "code",
   "execution_count": null,
   "metadata": {},
   "outputs": [],
   "source": [
    "# Load in the general demographics data.\n",
    "azdias = pd.read_csv('Udacity_AZDIAS_Subset.csv', delimiter =';')\n",
    "\n",
    "# Load in the feature summary file.\n",
    "feat_info = pd.read_csv('AZDIAS_Feature_Summary.csv', delimiter =';')"
   ]
  },
  {
   "cell_type": "code",
   "execution_count": null,
   "metadata": {},
   "outputs": [],
   "source": [
    "# Check the structure of the data after it's loaded (e.g. print the number of\n",
    "# rows and columns, print the first few rows).\n",
    "print('Feature Info')\n",
    "print(feat_info.info())\n",
    "print(feat_info)"
   ]
  },
  {
   "cell_type": "code",
   "execution_count": null,
   "metadata": {},
   "outputs": [],
   "source": [
    "print()\n",
    "print('Shape Azdias')\n",
    "az_shape = azdias.shape\n",
    "print(az_shape)\n",
    "print('Describe Azdias')\n",
    "print(azdias.describe())"
   ]
  },
  {
   "cell_type": "code",
   "execution_count": null,
   "metadata": {},
   "outputs": [],
   "source": [
    "print()\n",
    "print('First 10 rows:')\n",
    "azdias.head(10)"
   ]
  },
  {
   "cell_type": "markdown",
   "metadata": {},
   "source": [
    "> **Tip**: Add additional cells to keep everything in reasonably-sized chunks! Keyboard shortcut `esc --> a` (press escape to enter command mode, then press the 'A' key) adds a new cell before the active cell, and `esc --> b` adds a new cell after the active cell. If you need to convert an active cell to a markdown cell, use `esc --> m` and to convert to a code cell, use `esc --> y`. \n",
    "\n",
    "## Step 1: Preprocessing\n",
    "\n",
    "### Step 1.1: Assess Missing Data\n",
    "\n",
    "The feature summary file contains a summary of properties for each demographics data column. You will use this file to help you make cleaning decisions during this stage of the project. First of all, you should assess the demographics data in terms of missing data. Pay attention to the following points as you perform your analysis, and take notes on what you observe. Make sure that you fill in the **Discussion** cell with your findings and decisions at the end of each step that has one!\n",
    "\n",
    "#### Step 1.1.1: Convert Missing Value Codes to NaNs\n",
    "The fourth column of the feature attributes summary (loaded in above as `feat_info`) documents the codes from the data dictionary that indicate missing or unknown data. While the file encodes this as a list (e.g. `[-1,0]`), this will get read in as a string object. You'll need to do a little bit of parsing to make use of it to identify and clean the data. Convert data that matches a 'missing' or 'unknown' value code into a numpy NaN value. You might want to see how much data takes on a 'missing' or 'unknown' code, and how much data is naturally missing, as a point of interest.\n",
    "\n",
    "**As one more reminder, you are encouraged to add additional cells to break up your analysis into manageable chunks.**"
   ]
  },
  {
   "cell_type": "code",
   "execution_count": null,
   "metadata": {},
   "outputs": [],
   "source": [
    "# Identify missing or unknown data values and convert them to NaNs.\n",
    "# Feat_info: loop over all attributes\n",
    "# identify for each attribute string for missing or unknown data\n",
    "# replace these string values in azdias with NaN\n",
    "\n",
    "num_attr = len(feat_info)\n",
    "\n",
    "for i in range(num_attr):\n",
    "    attr = feat_info['attribute'][i]\n",
    "    values = feat_info['missing_or_unknown'][i]\n",
    "    list_values = values[1:-1].split(',')\n",
    "    print(len(list_values), list_values)\n",
    "\n",
    "    for value in list_values:\n",
    "        try:\n",
    "            value = int(value)\n",
    "            azdias[attr] = azdias[attr].replace([value],np.NaN)\n",
    "        except ValueError:\n",
    "            azdias[attr] = azdias[attr].replace([value],np.NaN)\n",
    "    # Check for first 10 entries if replacement is correct\n",
    "    print(azdias[attr].head(10))\n",
    "    print()"
   ]
  },
  {
   "cell_type": "markdown",
   "metadata": {},
   "source": [
    "#### Step 1.1.2: Assess Missing Data in Each Column\n",
    "\n",
    "How much missing data is present in each column? There are a few columns that are outliers in terms of the proportion of values that are missing. You will want to use matplotlib's [`hist()`](https://matplotlib.org/api/_as_gen/matplotlib.pyplot.hist.html) function to visualize the distribution of missing value counts to find these columns. Identify and document these columns. While some of these columns might have justifications for keeping or re-encoding the data, for this project you should just remove them from the dataframe. (Feel free to make remarks about these outlier columns in the discussion, however!)\n",
    "\n",
    "For the remaining features, are there any patterns in which columns have, or share, missing data?"
   ]
  },
  {
   "cell_type": "code",
   "execution_count": null,
   "metadata": {
    "scrolled": true
   },
   "outputs": [],
   "source": [
    "# Perform an assessment of how much missing data there is in each column of the\n",
    "# dataset.\n",
    "# Dictionary to store counts of missing data (percentage of values)\n",
    "dict_nan = {}\n",
    "\n",
    "for i in range(num_attr):\n",
    "    attr = feat_info['attribute'][i]\n",
    "    count = azdias[attr].isnull().sum()\n",
    "    \n",
    "    dict_nan[attr] = count*100 / az_shape[0]\n",
    "    sorted_dict = sorted(dict_nan.values(), reverse = True)\n",
    "    \n",
    "print(dict_nan)\n",
    "print()\n",
    "print('Sorted list of percentage values:')\n",
    "print(sorted_dict)"
   ]
  },
  {
   "cell_type": "markdown",
   "metadata": {},
   "source": [
    "The sorted list of the percentage values shows that there are 6 columns with values which are much higher than 20%. Therefore, I will drop these six columns from the data set. From my point of view, this list shows better as a histogram which columns can be dropped."
   ]
  },
  {
   "cell_type": "code",
   "execution_count": null,
   "metadata": {},
   "outputs": [],
   "source": [
    "# Investigate patterns in the amount of missing data in each column.\n",
    "\n",
    "list_drop_columns = []\n",
    "for key in dict_nan:\n",
    "    if dict_nan[key] > 20:\n",
    "        list_drop_columns.append(key)\n",
    "\n",
    "print('These columns should be dropped: ',list_drop_columns)\n",
    "\n"
   ]
  },
  {
   "cell_type": "code",
   "execution_count": null,
   "metadata": {},
   "outputs": [],
   "source": [
    "# Remove the outlier columns from the dataset. (You'll perform other data\n",
    "# engineering tasks such as re-encoding and imputation later.)\n",
    "azdias.drop(columns = list_drop_columns, inplace = True)\n",
    "print(azdias.head())\n"
   ]
  },
  {
   "cell_type": "markdown",
   "metadata": {},
   "source": [
    "#### Discussion 1.1.2: Assess Missing Data in Each Column\n",
    "The sorted list of the percentage values shows that there are 6 columns with values which are much higher than 20%. Therefore, I dropped these six columns from the data set. From my point of view, this list shows better as a histogram which columns can be dropped."
   ]
  },
  {
   "cell_type": "markdown",
   "metadata": {},
   "source": [
    "#### Step 1.1.3: Assess Missing Data in Each Row\n",
    "\n",
    "Now, you'll perform a similar assessment for the rows of the dataset. How much data is missing in each row? As with the columns, you should see some groups of points that have a very different numbers of missing values. Divide the data into two subsets: one for data points that are above some threshold for missing values, and a second subset for points below that threshold.\n",
    "\n",
    "In order to know what to do with the outlier rows, we should see if the distribution of data values on columns that are not missing data (or are missing very little data) are similar or different between the two groups. Select at least five of these columns and compare the distribution of values.\n",
    "- You can use seaborn's [`countplot()`](https://seaborn.pydata.org/generated/seaborn.countplot.html) function to create a bar chart of code frequencies and matplotlib's [`subplot()`](https://matplotlib.org/api/_as_gen/matplotlib.pyplot.subplot.html) function to put bar charts for the two subplots side by side.\n",
    "- To reduce repeated code, you might want to write a function that can perform this comparison, taking as one of its arguments a column to be compared.\n",
    "\n",
    "Depending on what you observe in your comparison, this will have implications on how you approach your conclusions later in the analysis. If the distributions of non-missing features look similar between the data with many missing values and the data with few or no missing values, then we could argue that simply dropping those points from the analysis won't present a major issue. On the other hand, if the data with many missing values looks very different from the data with few or no missing values, then we should make a note on those data as special. We'll revisit these data later on. **Either way, you should continue your analysis for now using just the subset of the data with few or no missing values.**"
   ]
  },
  {
   "cell_type": "code",
   "execution_count": null,
   "metadata": {},
   "outputs": [],
   "source": [
    "# How much data is missing in each row of the dataset?\n",
    "row_nans = azdias.isnull().sum(axis = 1)\n",
    "\n",
    "row_nans.hist()\n",
    "plt.ylabel('Counts')\n",
    "plt.xlabel('Number of NaN')\n",
    "plt.show()\n",
    "\n"
   ]
  },
  {
   "cell_type": "code",
   "execution_count": null,
   "metadata": {},
   "outputs": [],
   "source": [
    "# Write code to divide the data into two subsets based on the number of missing\n",
    "# values in each row.\n",
    "# Adding the number of missing values as an additional column to the dataset\n",
    "azdias['Missing values'] = row_nans\n",
    "\n",
    "split_value = 30\n",
    "\n",
    "az_mask_low_nan = azdias['Missing values'] < split_value\n",
    "az_mask_high_nan = azdias['Missing values'] >= split_value\n",
    "\n",
    "azdias_low_nan = azdias[az_mask_low_nan]\n",
    "print(azdias_low_nan.shape)\n",
    "azdias_high_nan = azdias[az_mask_high_nan]\n",
    "print(azdias_high_nan.shape)\n",
    "\n",
    "# The following analysis will be done with the data set with low Nan values\n",
    "# remove column with number of missing values per row\n",
    "azdias_low_nan.drop('Missing values', axis=1, inplace = True)\n",
    "azdias_corr =  azdias_low_nan"
   ]
  },
  {
   "cell_type": "code",
   "execution_count": null,
   "metadata": {},
   "outputs": [],
   "source": [
    "# Compare the distribution of values for at least five columns where there are\n",
    "# no or few missing values, between the two subsets.\n",
    "print('Analysis of dataset with low missing values:')\n",
    "dict_nan_low = {}\n",
    "\n",
    "column_names = azdias_low_nan.columns.tolist()\n",
    "\n",
    "for i in range(len(column_names)):\n",
    "    attr = column_names[i]\n",
    "    count = azdias_low_nan[attr].isnull().sum()\n",
    "    \n",
    "    dict_nan_low[attr] = count\n",
    "    sorted_dict_low = sorted(dict_nan_low.values(), reverse = True)\n",
    "    \n",
    "print(dict_nan_low)\n",
    "print()\n",
    "print('Sorted list of values:')\n",
    "print(sorted_dict_low)"
   ]
  },
  {
   "cell_type": "code",
   "execution_count": null,
   "metadata": {},
   "outputs": [],
   "source": [
    "# For some columns the same or very similar nummbers occur. \n",
    "# I check if these columns belong together:\n",
    "step1 = 59000\n",
    "step2 = 40000\n",
    "step3 = 30000\n",
    "step4 = 20000\n",
    "for key in dict_nan_low:\n",
    "    if dict_nan_low[key] > step1:\n",
    "        print('Columns withmore than ', step1, 'missing values:', key)\n",
    "for key in dict_nan_low:\n",
    "    if step1 > dict_nan_low[key] > step2:\n",
    "        print('Columns withmore than ', step2, 'missing values:', key)\n",
    "for key in dict_nan_low:\n",
    "    if step2 > dict_nan_low[key] > step3:\n",
    "        print('Columns withmore than ', step3, 'missing values:', key)\n",
    "for key in dict_nan_low:\n",
    "    if step3 > dict_nan_low[key] > step4:\n",
    "        print('Columns withmore than ', step4, 'missing values:', key)"
   ]
  },
  {
   "cell_type": "code",
   "execution_count": null,
   "metadata": {},
   "outputs": [],
   "source": [
    "# Compare the distribution of values for at least five columns where there are\n",
    "# no or few missing values, between the two subsets.\n",
    "print('Analysis of dataset with high missing values:')\n",
    "dict_nan_high = {}\n",
    "\n",
    "column_names = azdias_high_nan.columns.tolist()\n",
    "\n",
    "for i in range(len(column_names)):\n",
    "    attr = column_names[i]\n",
    "    count = azdias_high_nan[attr].isnull().sum()\n",
    "    \n",
    "    dict_nan_high[attr] = count\n",
    "    sorted_dict_high = sorted(dict_nan_high.values(), reverse = True)\n",
    "    \n",
    "print(dict_nan_high)\n",
    "print()\n",
    "print('Sorted list of values:')\n",
    "print(sorted_dict_high)"
   ]
  },
  {
   "cell_type": "code",
   "execution_count": null,
   "metadata": {},
   "outputs": [],
   "source": [
    "# For some columns the same or very similar nummbers occur. \n",
    "# I check if these columns belong together:\n",
    "step1 = 90000\n",
    "step2 = 70000\n",
    "step3 = 40000\n",
    "\n",
    "for key in dict_nan_high:\n",
    "    if dict_nan_high[key] > step1:\n",
    "        print('Columns withmore than ', step1, 'missing values:', key)\n",
    "for key in dict_nan_high:\n",
    "    if step1 > dict_nan_high[key] > step2:\n",
    "        print('Columns withmore than ', step2, 'missing values:', key)\n",
    "for key in dict_nan_high:\n",
    "    if step2 > dict_nan_high[key] > step3:\n",
    "        print('Columns withmore than ', step3, 'missing values:', key)\n"
   ]
  },
  {
   "cell_type": "markdown",
   "metadata": {},
   "source": [
    "#### Discussion 1.1.3: Assess Missing Data in Each Row\n",
    "\n",
    "The assumption that some of the columns belong together and have the same or similar numbers of missing values is confirmed. For example we see this for KBA05_xxx and PLZ8_XXX in both datasets.\n",
    "\n",
    "All columns with high values from the set with the low nan-values also occur in the set with high nan-values.\n",
    "\n",
    "But the colunms with the highest value from the set with the high nan-values do not occur in the top rank of the other data set."
   ]
  },
  {
   "cell_type": "markdown",
   "metadata": {},
   "source": [
    "### Step 1.2: Select and Re-Encode Features\n",
    "\n",
    "Checking for missing data isn't the only way in which you can prepare a dataset for analysis. Since the unsupervised learning techniques to be used will only work on data that is encoded numerically, you need to make a few encoding changes or additional assumptions to be able to make progress. In addition, while almost all of the values in the dataset are encoded using numbers, not all of them represent numeric values. Check the third column of the feature summary (`feat_info`) for a summary of types of measurement.\n",
    "- For numeric and interval data, these features can be kept without changes.\n",
    "- Most of the variables in the dataset are ordinal in nature. While ordinal values may technically be non-linear in spacing, make the simplifying assumption that the ordinal variables can be treated as being interval in nature (that is, kept without any changes).\n",
    "- Special handling may be necessary for the remaining two variable types: categorical, and 'mixed'.\n",
    "\n",
    "In the first two parts of this sub-step, you will perform an investigation of the categorical and mixed-type features and make a decision on each of them, whether you will keep, drop, or re-encode each. Then, in the last part, you will create a new data frame with only the selected and engineered columns.\n",
    "\n",
    "Data wrangling is often the trickiest part of the data analysis process, and there's a lot of it to be done here. But stick with it: once you're done with this step, you'll be ready to get to the machine learning parts of the project!"
   ]
  },
  {
   "cell_type": "code",
   "execution_count": null,
   "metadata": {},
   "outputs": [],
   "source": [
    "# How many features are there of each data type?\n",
    "print('Number of data types in original data set:')\n",
    "print(feat_info['type'].value_counts())\n",
    "\n",
    "print(feat_info)"
   ]
  },
  {
   "cell_type": "markdown",
   "metadata": {},
   "source": [
    "#### Step 1.2.1: Re-Encode Categorical Features\n",
    "\n",
    "For categorical data, you would ordinarily need to encode the levels as dummy variables. Depending on the number of categories, perform one of the following:\n",
    "- For binary (two-level) categoricals that take numeric values, you can keep them without needing to do anything.\n",
    "- There is one binary variable that takes on non-numeric values. For this one, you need to re-encode the values as numbers or create a dummy variable.\n",
    "- For multi-level categoricals (three or more values), you can choose to encode the values using multiple dummy variables (e.g. via [OneHotEncoder](http://scikit-learn.org/stable/modules/generated/sklearn.preprocessing.OneHotEncoder.html)), or (to keep things straightforward) just drop them from the analysis. As always, document your choices in the Discussion section."
   ]
  },
  {
   "cell_type": "code",
   "execution_count": null,
   "metadata": {},
   "outputs": [],
   "source": [
    "# Assess categorical variables: which are binary, which are multi-level, and\n",
    "# which one needs to be re-encoded?\n",
    "list_cat=[]\n",
    "list_mix=[]\n",
    "\n",
    "shape_feat = feat_info.shape\n",
    "for i in range(shape_feat[0]):\n",
    "    \n",
    "    if feat_info['type'][i] == 'categorical' and feat_info['attribute'][i] not in list_drop_columns:\n",
    "        list_cat.append(feat_info['attribute'][i])\n",
    "     \n",
    "    elif feat_info['type'][i] =='mixed'and feat_info['attribute'][i] not in list_drop_columns:\n",
    "        list_mix.append(feat_info['attribute'][i])\n",
    "\n",
    "print('List of categorical features:')\n",
    "print(list_cat)\n",
    "print()\n",
    "print('List of mixed features:')\n",
    "print(list_mix)\n"
   ]
  },
  {
   "cell_type": "code",
   "execution_count": null,
   "metadata": {},
   "outputs": [],
   "source": [
    "# New list for categorical featues which should be encoded\n",
    "list_cat_enco = []\n",
    "\n",
    "for i in list_cat:\n",
    "    if len(azdias_corr[i].value_counts()) >2:\n",
    "        list_cat_enco.append(i)\n",
    "\n",
    "print('List of categorical features for encoding:')\n",
    "print(list_cat_enco)"
   ]
  },
  {
   "cell_type": "code",
   "execution_count": null,
   "metadata": {},
   "outputs": [],
   "source": [
    "# Re-encode categorical variable(s) to be kept in the analysis.\n",
    "\n",
    "# Encoding feature by feature\n",
    "for cat in list_cat_enco:\n",
    "    # create dummies for new columns\n",
    "    one_hot = pd.get_dummies(azdias_corr[cat], prefix = cat)\n",
    "    # drop original column\n",
    "    azdias_corr.drop(cat, axis=1, inplace = True)\n",
    "    # add new columns\n",
    "    azdias_corr = azdias_corr.join(one_hot)\n",
    "\n",
    "print(azdias_corr.head(10))"
   ]
  },
  {
   "cell_type": "markdown",
   "metadata": {},
   "source": [
    "#### Discussion 1.2.1: Re-Encode Categorical Features\n",
    "\n",
    "First I analysed which categorical features have more than 2 values in the dataset and which are not already dropped. For these categories I did one hot encoding. Therefore, all different values are now represented with own columns in the dataset. \n",
    "\n",
    "Furthermore, I removed the original columns because their information is now available in the new columns.\n",
    "\n",
    "Categorical features with only two different values are unchanged because they can be handled by the unsupervised learning algorithm."
   ]
  },
  {
   "cell_type": "markdown",
   "metadata": {},
   "source": [
    "#### Step 1.2.2: Engineer Mixed-Type Features\n",
    "\n",
    "There are a handful of features that are marked as \"mixed\" in the feature summary that require special treatment in order to be included in the analysis. There are two in particular that deserve attention; the handling of the rest are up to your own choices:\n",
    "- \"PRAEGENDE_JUGENDJAHRE\" combines information on three dimensions: generation by decade, movement (mainstream vs. avantgarde), and nation (east vs. west). While there aren't enough levels to disentangle east from west, you should create two new variables to capture the other two dimensions: an interval-type variable for decade, and a binary variable for movement.\n",
    "- \"CAMEO_INTL_2015\" combines information on two axes: wealth and life stage. Break up the two-digit codes by their 'tens'-place and 'ones'-place digits into two new ordinal variables (which, for the purposes of this project, is equivalent to just treating them as their raw numeric values).\n",
    "- If you decide to keep or engineer new features around the other mixed-type features, make sure you note your steps in the Discussion section.\n",
    "\n",
    "Be sure to check `Data_Dictionary.md` for the details needed to finish these tasks."
   ]
  },
  {
   "cell_type": "markdown",
   "metadata": {},
   "source": [
    "### 1.18. PRAEGENDE_JUGENDJAHRE (copied from Data_Dictionary)\n",
    "Dominating movement of person's youth (avantgarde vs. mainstream; east vs. west)\n",
    "- -1: unknown\n",
    "-  0: unknown\n",
    "-  1: 40s - war years (Mainstream, E+W)\n",
    "-  2: 40s - reconstruction years (Avantgarde, E+W)\n",
    "-  3: 50s - economic miracle (Mainstream, E+W)\n",
    "-  4: 50s - milk bar / Individualisation (Avantgarde, E+W)\n",
    "-  5: 60s - economic miracle (Mainstream, E+W)\n",
    "-  6: 60s - generation 68 / student protestors (Avantgarde, W)\n",
    "-  7: 60s - opponents to the building of the Wall (Avantgarde, E)\n",
    "-  8: 70s - family orientation (Mainstream, E+W)\n",
    "-  9: 70s - peace movement (Avantgarde, E+W)\n",
    "- 10: 80s - Generation Golf (Mainstream, W)\n",
    "- 11: 80s - ecological awareness (Avantgarde, W)\n",
    "- 12: 80s - FDJ / communist party youth organisation (Mainstream, E)\n",
    "- 13: 80s - Swords into ploughshares (Avantgarde, E)\n",
    "- 14: 90s - digital media kids (Mainstream, E+W)\n",
    "- 15: 90s - ecological awareness (Avantgarde, E+W)"
   ]
  },
  {
   "cell_type": "code",
   "execution_count": null,
   "metadata": {},
   "outputs": [],
   "source": [
    "# Investigate \"PRAEGENDE_JUGENDJAHRE\" and engineer two new variables.\n",
    "az_corr_shape = azdias_corr.shape\n",
    "# derive intervall Variable for decade\n",
    "# list for new column\n",
    "col_empty = ['NaN'] * az_corr_shape[0]\n",
    "\n",
    "# Adding new columns\n",
    "azdias_corr['Decade'] = col_empty\n",
    "azdias_corr['Stream'] = col_empty\n",
    "\n",
    "# Dictionary Decade\n",
    "dict_decade={1:'40s', 2:'40s', 3:'50s', 4: '50s', 5: '60s', 6:'60s', 7:'60s', 8:'70s', 9: '70s', 10:'80s',\n",
    "             11:'80s', 12:'80s', 13: '13',  14: '90s', 15:'90s'}\n",
    "\n",
    "\n",
    "dict_stream={1: 'mainstream', 3: 'mainstream', 5: 'mainstream', 8: 'mainstream', 10: 'mainstream', 12: 'mainstream',\n",
    "                14: 'mainstream', 2: 'avantgarde', 4: 'avantgarde', 6: 'avantgarde', 7: 'avantgarde', 9: 'avantgarde', \n",
    "                 11: 'avantgarde', 13: 'avantgarde', 15: 'avantgarde'}\n",
    "\n",
    "for i in dict_decade:\n",
    "    # Masking for each value\n",
    "    mask_decade = azdias_corr['PRAEGENDE_JUGENDJAHRE'] == i \n",
    "    # Assignment of values for decade\n",
    "    azdias_corr['Decade'][mask_decade] = dict_decade[i]\n",
    "    azdias_corr['Stream'][mask_decade] = dict_stream[i]\n",
    "\n",
    "    \n",
    "print(azdias_corr['PRAEGENDE_JUGENDJAHRE'].head())\n",
    "print(azdias_corr['Decade'].head())\n",
    "print(azdias_corr['Stream'].head())"
   ]
  },
  {
   "cell_type": "code",
   "execution_count": null,
   "metadata": {},
   "outputs": [],
   "source": [
    "# One hot Encoding of Decade\n",
    "# create dummies for new column\n",
    "one_hot = pd.get_dummies(azdias_corr['Decade'], prefix = 'Youth')\n",
    "# drop original column\n",
    "azdias_corr.drop(['Decade'], axis=1, inplace = True)\n",
    "# add new columns\n",
    "azdias_corr = azdias_corr.join(one_hot)\n",
    "\n",
    "# One hot Encoding of mainstream vs avantgarde\n",
    "# create dummies for new column\n",
    "one_hot = pd.get_dummies(azdias_corr['Stream'])\n",
    "# drop original column\n",
    "azdias_corr.drop(['Stream'], axis=1, inplace = True)\n",
    "# add new columns\n",
    "azdias_corr = azdias_corr.join(one_hot)\n",
    "\n",
    "# Deleting of 'PRAEGENDE_JUGENDJAHRE'\n",
    "azdias_corr.drop(['PRAEGENDE_JUGENDJAHRE'], axis=1, inplace = True)"
   ]
  },
  {
   "cell_type": "markdown",
   "metadata": {},
   "source": [
    "### 4.3. CAMEO_INTL_2015\n",
    "German CAMEO: Wealth / Life Stage Typology, mapped to international code\n",
    "- -1: unknown\n",
    "- 11: Wealthy Households - Pre-Family Couples & Singles\n",
    "- 12: Wealthy Households - Young Couples With Children\n",
    "- 13: Wealthy Households - Families With School Age Children\n",
    "- 14: Wealthy Households - Older Families &  Mature Couples\n",
    "- 15: Wealthy Households - Elders In Retirement\n",
    "- 21: Prosperous Households - Pre-Family Couples & Singles\n",
    "- 22: Prosperous Households - Young Couples With Children\n",
    "- 23: Prosperous Households - Families With School Age Children\n",
    "- 24: Prosperous Households - Older Families & Mature Couples\n",
    "- 25: Prosperous Households - Elders In Retirement\n",
    "- 31: Comfortable Households - Pre-Family Couples & Singles\n",
    "- 32: Comfortable Households - Young Couples With Children\n",
    "- 33: Comfortable Households - Families With School Age Children\n",
    "- 34: Comfortable Households - Older Families & Mature Couples\n",
    "- 35: Comfortable Households - Elders In Retirement\n",
    "- 41: Less Affluent Households - Pre-Family Couples & Singles\n",
    "- 42: Less Affluent Households - Young Couples With Children\n",
    "- 43: Less Affluent Households - Families With School Age Children\n",
    "- 44: Less Affluent Households - Older Families & Mature Couples\n",
    "- 45: Less Affluent Households - Elders In Retirement\n",
    "- 51: Poorer Households - Pre-Family Couples & Singles\n",
    "- 52: Poorer Households - Young Couples With Children\n",
    "- 53: Poorer Households - Families With School Age Children\n",
    "- 54: Poorer Households - Older Families & Mature Couples\n",
    "- 55: Poorer Households - Elders In Retirement\n",
    "- XX: unknown"
   ]
  },
  {
   "cell_type": "code",
   "execution_count": null,
   "metadata": {},
   "outputs": [],
   "source": [
    "# Investigate \"CAMEO_INTL_2015\" and engineer two new variables.\n",
    "print(azdias_corr['CAMEO_INTL_2015'].head())\n",
    "\n",
    "# Adding new columns\n",
    "azdias_corr['Wealth'] = col_empty\n",
    "azdias_corr['Life_stage'] = col_empty\n",
    "\n",
    "# Dictionary Wealth\n",
    "dict_wealth = {11: 'wealthy', 12: 'wealthy', 13: 'wealthy', 14: 'wealthy', 15: 'wealthy',\n",
    "              21: 'prosperous', 22: 'prosperous', 23: 'prosperous', 24: 'prosperous', 25: 'prosperous',\n",
    "              31: 'comfortable', 32: 'comfortable', 33: 'comfortable', 34: 'comfortable', 35: 'comfortable',\n",
    "              41: 'less affluent', 42: 'less affluent', 43: 'less affluent', 44: 'less affluent', 45: 'less affluent',\n",
    "              51: 'poorer', 52: 'poorer', 53: 'poorer', 54: 'poorer', 55: 'poorer' }\n",
    "\n",
    "# Dictionary Life stage\n",
    "dict_lstage = {11: 'Pre-Family Couples & Singles', 21: 'Pre-Family Couples & Singles', 31: 'Pre-Family Couples & Singles',\n",
    "              41: 'Pre-Family Couples & Singles', 51: 'Pre-Family Couples & Singles',\n",
    "              12: 'Young Couples With Children', 22: 'Young Couples With Children', 32: 'Young Couples With Children',\n",
    "              42: 'Young Couples With Children', 52: 'Young Couples With Children',\n",
    "              13: 'Families With School Age Children', 23: 'Families With School Age Children', \n",
    "              33: 'Families With School Age Children', 43: 'Families With School Age Children',\n",
    "              53: 'Families With School Age Children',\n",
    "              14: 'Older Families & Mature Couples', 24: 'Older Families & Mature Couples', 34: 'Older Families & Mature Couples',\n",
    "              44: 'Older Families & Mature Couples', 54: 'Older Families & Mature Couples',\n",
    "              15: 'Elders In Retirement', 25: 'Elders In Retirement', 35: 'Elders In Retirement', 45: 'Elders In Retirement',\n",
    "              55: 'Elders In Retirement'}\n",
    "\n",
    "for i in dict_wealth:\n",
    "    # Masking for each value\n",
    "    mask_cameo = azdias_corr['CAMEO_INTL_2015'] == str(i)\n",
    "    \n",
    "    # Assignment of values for wealth and life stage\n",
    "    azdias_corr['Wealth'][mask_cameo] = dict_wealth[i]\n",
    "    azdias_corr['Life_stage'][mask_cameo] = dict_lstage[i]\n",
    "\n",
    "\n",
    "print(azdias_corr['Wealth'].head())\n",
    "print(azdias_corr['Life_stage'].head())"
   ]
  },
  {
   "cell_type": "code",
   "execution_count": null,
   "metadata": {},
   "outputs": [],
   "source": [
    "# Encoding Wealth and family stage\n",
    "list_cat =['Wealth','Life_stage']\n",
    "for cat in list_cat:\n",
    "    # create dummies for new columns\n",
    "    one_hot = pd.get_dummies(azdias_corr[cat], prefix = cat)\n",
    "    # drop original column\n",
    "    azdias_corr.drop(cat, axis=1, inplace = True)\n",
    "    # add new columns\n",
    "    azdias_corr = azdias_corr.join(one_hot)\n",
    "\n",
    "# Deleting of 'CAMEO_INTL_2015' from the dataset\n",
    "azdias_corr.drop('CAMEO_INTL_2015', axis=1, inplace = True)"
   ]
  },
  {
   "cell_type": "code",
   "execution_count": null,
   "metadata": {},
   "outputs": [],
   "source": [
    "# Investigation of other mixed categories\n",
    "print('List of mixed features:')\n",
    "print(list_mix)\n",
    "print()\n"
   ]
  },
  {
   "cell_type": "markdown",
   "metadata": {},
   "source": [
    "### 1.11. LP_LEBENSPHASE_FEIN\n",
    "Life stage, fine scale\n",
    "-  1: single low-income earners of younger age\n",
    "-  2: single low-income earners of middle age\n",
    "-  3: single average earners of younger age\n",
    "-  4: single average earners of middle age\n",
    "-  5: single low-income earners of advanced age\n",
    "-  6: single low-income earners at retirement age\n",
    "-  7: single average earners of advanced age\n",
    "-  8: single average earners at retirement age\n",
    "-  9: single independent persons\n",
    "- 10: wealthy single homeowners\n",
    "- 11: single homeowners of advanced age\n",
    "- 12: single homeowners at retirement age\n",
    "- 13: single top earners of higher age\n",
    "- 14: low-income and average earner couples of younger age\n",
    "- 15: low-income earner couples of higher age\n",
    "- 16: average earner couples of higher age\n",
    "- 17: independent couples\n",
    "- 18: wealthy homeowner couples of younger age\n",
    "- 19: homeowner couples of higher age\n",
    "- 20: top earner couples of higher age\n",
    "- 21: single parent low-income earners\n",
    "- 22: single parent average earners\n",
    "- 23: single parent high-income earners\n",
    "- 24: low-income earner families\n",
    "- 25: average earner families\n",
    "- 26: independent families\n",
    "- 27: homeowner families\n",
    "- 28: top earner families\n",
    "- 29: low-income earners of younger age from multiperson households\n",
    "- 30: average earners of younger age from multiperson households\n",
    "- 31: low-income earners of higher age from multiperson households\n",
    "- 32: average earners of higher age from multiperson households\n",
    "- 33: independent persons of younger age from multiperson households\n",
    "- 34: homeowners of younger age from multiperson households\n",
    "- 35: top earners of younger age from multiperson households\n",
    "- 36: independent persons of higher age from multiperson households\n",
    "- 37: homeowners of advanced age from multiperson households\n",
    "- 38: homeowners at retirement age from multiperson households\n",
    "- 39: top earners of middle age from multiperson households\n",
    "- 40: top earners at retirement age from multiperson households\n",
    "\n",
    "### 1.12. LP_LEBENSPHASE_GROB\n",
    "Life stage, rough scale\n",
    "-  1: single low-income and average earners of younger age\n",
    "-  2: single low-income and average earners of higher age\n",
    "-  3: single high-income earners\n",
    "-  4: single low-income and average-earner couples\n",
    "-  5: single high-income earner couples\n",
    "-  6: single parents\n",
    "-  7: single low-income and average earner families\n",
    "-  8: high-income earner families\n",
    "-  9: average earners of younger age from multiperson households\n",
    "- 10: low-income and average earners of higher age from multiperson households\n",
    "- 11: high-income earners of younger age from multiperson households\n",
    "- 12: high-income earners of higher age from multiperson households\n",
    "\n",
    "### 3.7. WOHNLAGE\n",
    "Neighborhood quality (or rural flag)\n",
    "- -1: unknown\n",
    "-  0: no score calculated\n",
    "-  1: very good neighborhood\n",
    "-  2: good neighborhood\n",
    "-  3: average neighborhood\n",
    "-  4: poor neighborhood\n",
    "-  5: very poor neighborhood\n",
    "-  7: rural neighborhood\n",
    "-  8: new building in rural neighborhood\n",
    "\n",
    "### 8.6. PLZ8_BAUMAX\n",
    "Most common building type within the PLZ8 region\n",
    "- -1: unknown\n",
    "-  0: unknown\n",
    "-  1: mainly 1-2 family homes\n",
    "-  2: mainly 3-5 family homes\n",
    "-  3: mainly 6-10 family homes\n",
    "-  4: mainly 10+ family homes\n",
    "-  5: mainly business buildings"
   ]
  },
  {
   "cell_type": "code",
   "execution_count": null,
   "metadata": {},
   "outputs": [],
   "source": [
    "print(azdias_corr['WOHNLAGE'].head())\n",
    "print(azdias_corr['PLZ8_BAUMAX'].head())"
   ]
  },
  {
   "cell_type": "code",
   "execution_count": null,
   "metadata": {},
   "outputs": [],
   "source": [
    "# Handling of the remaining mixed categories\n",
    "# Content of features \"LP Lebensphase fein/grob\" is already covered by content of CAMEO_INTL_2015\n",
    "# and can be removed.\n",
    "azdias_corr.drop('LP_LEBENSPHASE_FEIN', axis=1, inplace = True)\n",
    "azdias_corr.drop('LP_LEBENSPHASE_GROB', axis=1, inplace = True)\n",
    "\n",
    "# Features 'WOHNLAGE' and 'PLZ8_BAUMAX' can be handled as ordinal numbers\n",
    "# They are already float and need no change."
   ]
  },
  {
   "cell_type": "markdown",
   "metadata": {},
   "source": [
    "#### Discussion 1.2.2: Engineer Mixed-Type Features\n",
    "\n",
    "### Praegende Jugendjahre (english: forming youth age)\n",
    "This feature is a combination of the youth generation which the person belonged to and a categorization of these youth generation into avantgarde or mainstream.\n",
    "\n",
    "Even if the decade of birth could be considered as a number, the original feature delivers information about social aspects. Therefore, I handled it as a categorical feature and made an one-hot encoding for the youth generation. The information mainstream vs. avantgarde was also one hot encoded.\n",
    "\n",
    "### CAMEO_INTL_2015\n",
    "This combination is a combination of wealth and life stage. I splitted the feature into these two new features. For both I made an one hot encoding.\n",
    "\n",
    "### Conclusion\n",
    "All new features include interesting information and therefore, I kept them in the data set.\n"
   ]
  },
  {
   "cell_type": "markdown",
   "metadata": {},
   "source": [
    "#### Step 1.2.3: Complete Feature Selection\n",
    "\n",
    "In order to finish this step up, you need to make sure that your data frame now only has the columns that you want to keep. To summarize, the dataframe should consist of the following:\n",
    "- All numeric, interval, and ordinal type columns from the original dataset.\n",
    "- Binary categorical features (all numerically-encoded).\n",
    "- Engineered features from other multi-level categorical features and mixed features.\n",
    "\n",
    "Make sure that for any new columns that you have engineered, that you've excluded the original columns from the final dataset. Otherwise, their values will interfere with the analysis later on the project. For example, you should not keep \"PRAEGENDE_JUGENDJAHRE\", since its values won't be useful for the algorithm: only the values derived from it in the engineered features you created should be retained. As a reminder, your data should only be from **the subset with few or no missing values**."
   ]
  },
  {
   "cell_type": "code",
   "execution_count": null,
   "metadata": {},
   "outputs": [],
   "source": [
    "# If there are other re-engineering tasks you need to perform, make sure you\n",
    "# take care of them here. (Dealing with missing data will come in step 2.1.)\n",
    "print('List of categorical features for encoding:')\n",
    "print(list_cat_enco)\n",
    "print()\n",
    "print('List of mixed features:')\n",
    "list_mix.remove('WOHNLAGE')\n",
    "list_mix.remove('PLZ8_BAUMAX' )\n",
    "print(list_mix)\n",
    "print()\n",
    "# Derived categories from mixed features\n",
    "list_derived = ['Decade', 'Stream', 'Wealth', 'Life_stage', 'Missing values' ]\n",
    "print('Derived categories from mixed features:') \n",
    "print(list_derived)\n",
    "print()\n",
    "\n",
    "\n"
   ]
  },
  {
   "cell_type": "code",
   "execution_count": null,
   "metadata": {},
   "outputs": [],
   "source": [
    "# Combination of all these features\n",
    "list_not_used_feat = list_cat_enco + list_mix + list_derived\n",
    "print(list_not_used_feat)\n",
    "\n",
    "# List of all column names:\n",
    "list_columns = azdias_corr.columns\n",
    "print(list_columns)\n",
    "\n",
    "print()\n",
    "print('Check of features columns:')\n",
    "for feat in list_not_used_feat:\n",
    "    if feat in list_columns:\n",
    "        print('The feature', feat, 'is still in the data set!')\n",
    "    else:\n",
    "        print('ok')"
   ]
  },
  {
   "cell_type": "code",
   "execution_count": null,
   "metadata": {},
   "outputs": [],
   "source": [
    "# Do whatever you need to in order to ensure that the dataframe only contains\n",
    "# the columns that should be passed to the algorithm functions.\n",
    "list_dtype = []\n",
    "for feat in list_columns:\n",
    "        list_dtype.append(azdias_corr[feat].dtype)\n",
    "        if azdias_corr[feat].dtype == 'object':\n",
    "            print(feat, ' is still object')\n",
    "\n",
    "counts = pd.Series(list_dtype)\n",
    "print(counts.value_counts())       "
   ]
  },
  {
   "cell_type": "code",
   "execution_count": null,
   "metadata": {},
   "outputs": [],
   "source": [
    "# Change of OST_WEST_KZ to integer\n",
    "dict_ost_west = {'W': 1, 'O': 2}\n",
    "\n",
    "for i in dict_ost_west:\n",
    "    # Masking each value\n",
    "    mask_ow = azdias_corr['OST_WEST_KZ']\n",
    "    azdias_corr['OST_WEST_KZ'] = int(dict_ost_west[i])    \n",
    "\n",
    "list_dtype = []\n",
    "for feat in list_columns:\n",
    "        list_dtype.append(azdias_corr[feat].dtype)\n",
    "        if azdias_corr[feat].dtype == 'object':\n",
    "            print(feat, ' is still object')\n",
    "\n",
    "counts = pd.Series(list_dtype)\n",
    "print(counts.value_counts())"
   ]
  },
  {
   "cell_type": "markdown",
   "metadata": {},
   "source": [
    "### Step 1.3: Create a Cleaning Function\n",
    "\n",
    "Even though you've finished cleaning up the general population demographics data, it's important to look ahead to the future and realize that you'll need to perform the same cleaning steps on the customer demographics data. In this substep, complete the function below to execute the main feature selection, encoding, and re-engineering steps you performed above. Then, when it comes to looking at the customer data in Step 3, you can just run this function on that DataFrame to get the trimmed dataset in a single step."
   ]
  },
  {
   "cell_type": "code",
   "execution_count": null,
   "metadata": {},
   "outputs": [],
   "source": [
    "def clean_data(df):\n",
    "    \"\"\"\n",
    "    Perform feature trimming, re-encoding, and engineering for demographics\n",
    "    data\n",
    "    \n",
    "    INPUT: Demographics DataFrame\n",
    "    OUTPUT: Trimmed and cleaned demographics DataFrame\n",
    "    \"\"\"\n",
    "    \n",
    "    # Put in code here to execute all main cleaning steps:\n",
    "    # convert missing value codes into NaNs, ...\n",
    "    for value in list_values:\n",
    "        try:\n",
    "            value = int(value)\n",
    "            df[attr] = df[attr].replace([value],np.NaN)\n",
    "        except ValueError:\n",
    "            df[attr] = df[attr].replace([value],np.NaN)\n",
    "    \n",
    "    # remove selected columns \n",
    "    list_drop_columns = ['AGER_TYP', 'GEBURTSJAHR', 'TITEL_KZ', 'ALTER_HH', 'KK_KUNDENTYP', 'KBA05_BAUMAX']\n",
    "    df.drop(columns = list_drop_columns, inplace = True)\n",
    "    \n",
    "    # remove selected rows \n",
    "    df['Missing values'] = row_nans\n",
    "    split_value = 30\n",
    "    df_mask_low_nan = df['Missing values'] < split_value\n",
    "    #az_mask_high_nan = azdias['Missing values'] >= split_value\n",
    "\n",
    "    df_low_nan = df[df_mask_low_nan]\n",
    "    df_low_nan.drop('Missing values', axis=1, inplace = True)\n",
    "    df_corr =  df_low_nan\n",
    "    \n",
    "    # select, re-encode, and engineer column values.\n",
    "    list_cat_enco = ['CJT_GESAMTTYP', 'FINANZTYP', 'GFK_URLAUBERTYP', 'LP_FAMILIE_FEIN', 'LP_FAMILIE_GROB', 'LP_STATUS_FEIN', 'LP_STATUS_GROB', \n",
    "    'NATIONALITAET_KZ', 'SHOPPER_TYP', 'ZABEOTYP', 'GEBAEUDETYP', 'CAMEO_DEUG_2015', 'CAMEO_DEU_2015']\n",
    "    \n",
    " \n",
    "    # Encoding feature by feature\n",
    "    for cat in list_cat_enco:\n",
    "        # create dummies for new columns\n",
    "        one_hot = pd.get_dummies(df_corr[cat], prefix = cat)\n",
    "        # drop original column\n",
    "        df.drop(cat, axis=1, inplace = True)\n",
    "        # add new columns\n",
    "        df_corr = df_corr.join(one_hot)\n",
    "    \n",
    "    df_corr_shape = df_corr.shape\n",
    "    # derive intervall Variable for decade\n",
    "    # list for new column\n",
    "    col_empty = ['NaN'] * df_corr_shape[0]\n",
    "    # Adding new columns\n",
    "    df_corr['Decade'] = col_empty\n",
    "    df_corr['Stream'] = col_empty\n",
    "\n",
    "    # Dictionary Decade\n",
    "    dict_decade={1:'40s', 2:'40s', 3:'50s', 4: '50s', 5: '60s', 6:'60s', 7:'60s', 8:'70s', 9: '70s', 10:'80s',\n",
    "                 11:'80s', 12:'80s', 13: '13',  14: '90s', 15:'90s'}\n",
    "\n",
    "\n",
    "    dict_stream={1: 'mainstream', 3: 'mainstream', 5: 'mainstream', 8: 'mainstream', 10: 'mainstream', 12: 'mainstream',\n",
    "                    14: 'mainstream', 2: 'avantgarde', 4: 'avantgarde', 6: 'avantgarde', 7: 'avantgarde', 9: 'avantgarde', \n",
    "                     11: 'avantgarde', 13: 'avantgarde', 15: 'avantgarde'}\n",
    "\n",
    "    for i in dict_decade:\n",
    "        # Masking for each value\n",
    "        mask_decade = df_corr['PRAEGENDE_JUGENDJAHRE'] == i \n",
    "        # Assignment of values for decade\n",
    "        df_corr['Decade'][mask_decade] = dict_decade[i]\n",
    "        df_corr['Stream'][mask_decade] = dict_stream[i]     \n",
    "        \n",
    "    # One hot Encoding of Decade\n",
    "    # create dummies for new column\n",
    "    one_hot = pd.get_dummies(df_corr['Decade'], prefix = 'Youth')\n",
    "    # drop original column\n",
    "    df_corr.drop(['Decade'], axis=1, inplace = True)\n",
    "    # add new columns\n",
    "    df_corr = df_corr.join(one_hot)\n",
    "\n",
    "    # One hot Encoding of mainstream vs avantgarde\n",
    "    # create dummies for new column\n",
    "    one_hot = pd.get_dummies(df_corr['Stream'])\n",
    "    # drop original column\n",
    "    df_corr.drop(['Stream'], axis=1, inplace = True)\n",
    "    # add new columns\n",
    "    df_corr = df_corr.join(one_hot)\n",
    "\n",
    "    # Deleting of 'PRAEGENDE_JUGENDJAHRE'\n",
    "    df_corr.drop(['PRAEGENDE_JUGENDJAHRE'], axis=1, inplace = True )       \n",
    "\n",
    "    # Adding new columns\n",
    "    df_corr['Wealth'] = col_empty\n",
    "    df_corr['Life_stage'] = col_empty\n",
    "\n",
    "    # Dictionary Wealth\n",
    "    dict_wealth = {11: 'wealthy', 12: 'wealthy', 13: 'wealthy', 14: 'wealthy', 15: 'wealthy',\n",
    "                  21: 'prosperous', 22: 'prosperous', 23: 'prosperous', 24: 'prosperous', 25: 'prosperous',\n",
    "                  31: 'comfortable', 32: 'comfortable', 33: 'comfortable', 34: 'comfortable', 35: 'comfortable',\n",
    "                  41: 'less affluent', 42: 'less affluent', 43: 'less affluent', 44: 'less affluent', 45: 'less affluent',\n",
    "                  51: 'poorer', 52: 'poorer', 53: 'poorer', 54: 'poorer', 55: 'poorer' }\n",
    "\n",
    "    # Dictionary Life stage\n",
    "    dict_lstage = {11: 'Pre-Family Couples & Singles', 21: 'Pre-Family Couples & Singles', 31: 'Pre-Family Couples & Singles',\n",
    "                  41: 'Pre-Family Couples & Singles', 51: 'Pre-Family Couples & Singles',\n",
    "                  12: 'Young Couples With Children', 22: 'Young Couples With Children', 32: 'Young Couples With Children',\n",
    "                  42: 'Young Couples With Children', 52: 'Young Couples With Children',\n",
    "                  13: 'Families With School Age Children', 23: 'Families With School Age Children', \n",
    "                  33: 'Families With School Age Children', 43: 'Families With School Age Children',\n",
    "                  53: 'Families With School Age Children',\n",
    "                  14: 'Older Families & Mature Couples', 24: 'Older Families & Mature Couples', 34: 'Older Families & Mature Couples',\n",
    "                  44: 'Older Families & Mature Couples', 54: 'Older Families & Mature Couples',\n",
    "                  15: 'Elders In Retirement', 25: 'Elders In Retirement', 35: 'Elders In Retirement', 45: 'Elders In Retirement',\n",
    "                  55: 'Elders In Retirement'}\n",
    "                 \n",
    "    for i in dict_wealth:\n",
    "        # Masking for each value\n",
    "        mask_cameo = df_corr['CAMEO_INTL_2015'] == str(i)\n",
    "\n",
    "        # Assignment of values for wealth and life stage\n",
    "        df_corr['Wealth'][mask_cameo] = dict_wealth[i]\n",
    "        df_corr['Life_stage'][mask_cameo] = dict_lstage[i]\n",
    "\n",
    "    # Encoding Wealth and family stage\n",
    "    list_cat =['Wealth','Life_stage']\n",
    "    for cat in list_cat:\n",
    "        # create dummies for new columns\n",
    "        one_hot = pd.get_dummies(df_corr[cat], prefix = cat)\n",
    "        # drop original column\n",
    "        df_corr.drop(cat, axis=1, inplace = True)\n",
    "        # add new columns\n",
    "        df_corr = df_corr.join(one_hot)\n",
    "\n",
    "    # Deleting of 'CAMEO_INTL_2015' from the dataset\n",
    "    df_corr.drop('CAMEO_INTL_2015', axis=1, inplace = True)\n",
    "                 \n",
    "    # Content of features \"LP Lebensphase fein/grob\" is already covered by content of CAMEO_INTL_2015\n",
    "    # and can be removed.\n",
    "    df_corr.drop('LP_LEBENSPHASE_FEIN', axis=1, inplace = True)\n",
    "    df_corr.drop('LP_LEBENSPHASE_GROB', axis=1, inplace = True)                 \n",
    "                 \n",
    "\n",
    "    # If there are other re-engineering tasks you need to perform, make sure you\n",
    "    # take care of them here. (Dealing with missing data will come in step 2.1.)\n",
    "    list_mix.remove('WOHNLAGE')\n",
    "    # Derived categories from mixed features\n",
    "    list_derived = ['Decade', 'Stream', 'Wealth', 'Life_stage' ]\n",
    "\n",
    "    # Combination of all these features\n",
    "    list_not_used_feat = list_cat_enco + list_mix + list_derived\n",
    "\n",
    "    # List of all column names:\n",
    "    list_columns = df_corr.columns\n",
    "                 \n",
    "    for feat in list_not_used_feat:\n",
    "        if feat in list_columns:\n",
    "            print('The feature', feat, 'is still in the data set!')\n",
    "\n",
    "    # Change of OST_WEST_KZ to integer\n",
    "    dict_ost_west = {'W': 1, 'O': 2}\n",
    "\n",
    "    for i in dict_ost_west:\n",
    "        # Masking each value\n",
    "        mask_ow = df_corr['OST_WEST_KZ']\n",
    "        df_corr['OST_WEST_KZ'] = int(dict_ost_west[i])    \n",
    "\n",
    "    list_dtype = []\n",
    "    for feat in list_columns:\n",
    "            list_dtype.append(df_corr[feat].dtype)\n",
    "            if df_corr[feat].dtype == 'object':\n",
    "                print(feat, ' is still object')\n",
    "\n",
    "    counts = pd.Series(list_dtype)\n",
    "    print(counts.value_counts())    \n",
    "    # Replacing remaining NaN values with 0\n",
    "    df_corr.fillna(0, inplace = True)\n",
    "    # Return the cleaned dataframe.\n",
    "    return df_corr\n",
    "    "
   ]
  },
  {
   "cell_type": "markdown",
   "metadata": {},
   "source": [
    "## Step 2: Feature Transformation\n",
    "\n",
    "### Step 2.1: Apply Feature Scaling\n",
    "\n",
    "Before we apply dimensionality reduction techniques to the data, we need to perform feature scaling so that the principal component vectors are not influenced by the natural differences in scale for features. Starting from this part of the project, you'll want to keep an eye on the [API reference page for sklearn](http://scikit-learn.org/stable/modules/classes.html) to help you navigate to all of the classes and functions that you'll need. In this substep, you'll need to check the following:\n",
    "\n",
    "- sklearn requires that data not have missing values in order for its estimators to work properly. So, before applying the scaler to your data, make sure that you've cleaned the DataFrame of the remaining missing values. This can be as simple as just removing all data points with missing data, or applying an [Imputer](https://scikit-learn.org/0.16/modules/generated/sklearn.preprocessing.Imputer.html) to replace all missing values. You might also try a more complicated procedure where you temporarily remove missing values in order to compute the scaling parameters before re-introducing those missing values and applying imputation. Think about how much missing data you have and what possible effects each approach might have on your analysis, and justify your decision in the discussion section below.\n",
    "- For the actual scaling function, a [StandardScaler](http://scikit-learn.org/stable/modules/generated/sklearn.preprocessing.StandardScaler.html) instance is suggested, scaling each feature to mean 0 and standard deviation 1.\n",
    "- For these classes, you can make use of the `.fit_transform()` method to both fit a procedure to the data as well as apply the transformation to the data at the same time. Don't forget to keep the fit sklearn objects handy, since you'll be applying them to the customer demographics data towards the end of the project."
   ]
  },
  {
   "cell_type": "code",
   "execution_count": null,
   "metadata": {},
   "outputs": [],
   "source": [
    "# If you've not yet cleaned the dataset of all NaN values, then investigate and\n",
    "# do that now.\n",
    "# Replacing remaining NaN values with 0\n",
    "azdias_corr.fillna(0, inplace = True)\n",
    "print('Number of NaN values: ',azdias_corr.isnull().any().sum())\n",
    "\n"
   ]
  },
  {
   "cell_type": "code",
   "execution_count": null,
   "metadata": {},
   "outputs": [],
   "source": [
    "# Apply feature scaling to the general population demographics data.\n",
    "from sklearn.preprocessing import StandardScaler\n",
    "scaler = StandardScaler(with_mean = True, with_std = True)\n",
    "azdias_scaled = scaler.fit_transform(azdias_corr)\n",
    "\n",
    "print(azdias_scaled.shape)"
   ]
  },
  {
   "cell_type": "markdown",
   "metadata": {},
   "source": [
    "### Discussion 2.1: Apply Feature Scaling\n",
    "\n",
    "I replaced already the columns and rows with many NaN values. Therefore, I just replaced the remaining NaN values by zero."
   ]
  },
  {
   "cell_type": "markdown",
   "metadata": {},
   "source": [
    "### Step 2.2: Perform Dimensionality Reduction\n",
    "\n",
    "On your scaled data, you are now ready to apply dimensionality reduction techniques.\n",
    "\n",
    "- Use sklearn's [PCA](http://scikit-learn.org/stable/modules/generated/sklearn.decomposition.PCA.html) class to apply principal component analysis on the data, thus finding the vectors of maximal variance in the data. To start, you should not set any parameters (so all components are computed) or set a number of components that is at least half the number of features (so there's enough features to see the general trend in variability).\n",
    "- Check out the ratio of variance explained by each principal component as well as the cumulative variance explained. Try plotting the cumulative or sequential values using matplotlib's [`plot()`](https://matplotlib.org/api/_as_gen/matplotlib.pyplot.plot.html) function. Based on what you find, select a value for the number of transformed features you'll retain for the clustering part of the project.\n",
    "- Once you've made a choice for the number of components to keep, make sure you re-fit a PCA instance to perform the decided-on transformation."
   ]
  },
  {
   "cell_type": "code",
   "execution_count": null,
   "metadata": {},
   "outputs": [],
   "source": [
    "# Apply PCA to the data.\n",
    "\n",
    "from sklearn.decomposition import PCA\n",
    "pca = PCA(n_components = 50)\n",
    "pca.fit(azdias_scaled)\n"
   ]
  },
  {
   "cell_type": "code",
   "execution_count": null,
   "metadata": {},
   "outputs": [],
   "source": [
    "# This helper function was provided for the lesson about PCA\n",
    "# I modified it a little bit\n",
    "\n",
    "def scree_plot(pca):\n",
    "    '''\n",
    "    Creates a scree plot associated with the principal components \n",
    "    \n",
    "    INPUT: pca - the result of instantian of PCA in scikit learn\n",
    "            \n",
    "    OUTPUT:\n",
    "            None\n",
    "    '''\n",
    "    num_components=len(pca.explained_variance_ratio_)\n",
    "    ind = np.arange(num_components)\n",
    "    vals = pca.explained_variance_ratio_\n",
    " \n",
    "    plt.figure(figsize=(10, 6))\n",
    "    ax = plt.subplot(111)\n",
    "    cumvals = np.cumsum(vals)\n",
    "    ax.bar(ind, vals)\n",
    "    ax.plot(ind, cumvals)\n",
    "    for i in range(num_components):\n",
    "        ax.annotate(r\"%s%%\" % ((str(vals[i]*100)[:4])), (ind[i]+0.2, vals[i] + 0.01), va=\"bottom\", ha=\"center\", fontsize=12,\n",
    "                   rotation = 90)\n",
    " \n",
    "    ax.xaxis.set_tick_params(width=0)\n",
    "    ax.yaxis.set_tick_params(width=2, length=12)\n",
    " \n",
    "    ax.set_xlabel(\"Principal Component\")\n",
    "    ax.set_ylabel(\"Variance Explained (%)\")\n",
    "    plt.title('Explained Variance Per Principal Component')"
   ]
  },
  {
   "cell_type": "code",
   "execution_count": null,
   "metadata": {},
   "outputs": [],
   "source": [
    "# Investigate the variance accounted for by each principal component.\n",
    "scree_plot(pca)\n"
   ]
  },
  {
   "cell_type": "code",
   "execution_count": null,
   "metadata": {},
   "outputs": [],
   "source": [
    "# Re-apply PCA to the data while selecting for number of components to retain\n",
    "# Because of technical problems I reduced already the number of components.\n",
    "# pca = PCA(n_components = 20)\n",
    "# pca.fit(azdias_scaled)\n",
    "\n",
    "scree_plot(pca)"
   ]
  },
  {
   "cell_type": "markdown",
   "metadata": {},
   "source": [
    "### Discussion 2.2: Perform Dimensionality Reduction\n",
    "\n",
    "During the last steps technical problems occured. It was not possible to do the PCA with all components. The connection to the server was lost with more than 50 components. \n",
    "\n",
    "I decided to reduce the number of components because only the first 20 explain more than 1% of the total variance."
   ]
  },
  {
   "cell_type": "markdown",
   "metadata": {},
   "source": [
    "### Step 2.3: Interpret Principal Components\n",
    "\n",
    "Now that we have our transformed principal components, it's a nice idea to check out the weight of each variable on the first few components to see if they can be interpreted in some fashion.\n",
    "\n",
    "As a reminder, each principal component is a unit vector that points in the direction of highest variance (after accounting for the variance captured by earlier principal components). The further a weight is from zero, the more the principal component is in the direction of the corresponding feature. If two features have large weights of the same sign (both positive or both negative), then increases in one tend expect to be associated with increases in the other. To contrast, features with different signs can be expected to show a negative correlation: increases in one variable should result in a decrease in the other.\n",
    "\n",
    "- To investigate the features, you should map each weight to their corresponding feature name, then sort the features according to weight. The most interesting features for each principal component, then, will be those at the beginning and end of the sorted list. Use the data dictionary document to help you understand these most prominent features, their relationships, and what a positive or negative value on the principal component might indicate.\n",
    "- You should investigate and interpret feature associations from the first three principal components in this substep. To help facilitate this, you should write a function that you can call at any time to print the sorted list of feature weights, for the *i*-th principal component. This might come in handy in the next step of the project, when you interpret the tendencies of the discovered clusters."
   ]
  },
  {
   "cell_type": "code",
   "execution_count": null,
   "metadata": {},
   "outputs": [],
   "source": [
    "feature_list = azdias_corr.columns\n",
    "num_features = len(feature_list)\n",
    "\n",
    "def weight_feature_mapping(comp):\n",
    "    dict_feature_weight = {}\n",
    "    # Map each weight to the corresponding feature name\n",
    "    for i in range(num_features):\n",
    "        dict_feature_weight[feature_list[i]] = pca.components_[comp,i]\n",
    "    \n",
    "    # sort features according to weight, result is a list of tuples (feature, weight)\n",
    "    sortedDict = sorted(dict_feature_weight.items(), key = lambda x: x[1])\n",
    "\n",
    "    return sortedDict"
   ]
  },
  {
   "cell_type": "code",
   "execution_count": null,
   "metadata": {},
   "outputs": [],
   "source": [
    "# Map weights for the first principal component to corresponding feature names\n",
    "# and then print the linked values, sorted by weight.\n",
    "# HINT: Try defining a function here or in a new cell that you can reuse in the\n",
    "# other cells.\n",
    "\n",
    "print('Largest negative weigths:')\n",
    "print(weight_feature_mapping(0)[:5])\n",
    "print()\n",
    "print('Largest positive weigths:')\n",
    "print(weight_feature_mapping(0)[-5:])"
   ]
  },
  {
   "cell_type": "code",
   "execution_count": null,
   "metadata": {},
   "outputs": [],
   "source": [
    "# Map weights for the second principal component to corresponding feature names\n",
    "# and then print the linked values, sorted by weight.\n",
    "\n",
    "print('Largest negative weigths:')\n",
    "print(weight_feature_mapping(1)[:5])\n",
    "print()\n",
    "print('Largest positive weigths:')\n",
    "print(weight_feature_mapping(1)[-5:])"
   ]
  },
  {
   "cell_type": "code",
   "execution_count": null,
   "metadata": {},
   "outputs": [],
   "source": [
    "# Map weights for the third principal component to corresponding feature names\n",
    "# and then print the linked values, sorted by weight.\n",
    "\n",
    "print('Largest negative weigths:')\n",
    "print(weight_feature_mapping(2)[:5])\n",
    "print()\n",
    "print('Largest positive weigths:')\n",
    "print(weight_feature_mapping(2)[-5:])"
   ]
  },
  {
   "cell_type": "markdown",
   "metadata": {},
   "source": [
    "### Discussion 2.3: Interpret Principal Components\n",
    "\n",
    "We see that the features with the largest weights (positive or negative) are related to\n",
    "- financial behaviour (negative: \"FINANZ_MINIMALIST, 'FINANZ_SPARER', 'FINANZ_UNAUFFAELLIGER', ..)\n",
    "- residential area ('KBA05_...')\n",
    "- income (HH_EINKOMMEN_SCORE\n",
    "- social status ('LP_STATUS_GROB_1.0')\n",
    "\n",
    "From my perspective these feature can describe well a typical consumer.\n"
   ]
  },
  {
   "cell_type": "markdown",
   "metadata": {},
   "source": [
    "## Step 3: Clustering\n",
    "\n",
    "### Step 3.1: Apply Clustering to General Population\n",
    "\n",
    "You've assessed and cleaned the demographics data, then scaled and transformed them. Now, it's time to see how the data clusters in the principal components space. In this substep, you will apply k-means clustering to the dataset and use the average within-cluster distances from each point to their assigned cluster's centroid to decide on a number of clusters to keep.\n",
    "\n",
    "- Use sklearn's [KMeans](http://scikit-learn.org/stable/modules/generated/sklearn.cluster.KMeans.html#sklearn.cluster.KMeans) class to perform k-means clustering on the PCA-transformed data.\n",
    "- Then, compute the average difference from each point to its assigned cluster's center. **Hint**: The KMeans object's `.score()` method might be useful here, but note that in sklearn, scores tend to be defined so that larger is better. Try applying it to a small, toy dataset, or use an internet search to help your understanding.\n",
    "- Perform the above two steps for a number of different cluster counts. You can then see how the average distance decreases with an increasing number of clusters. However, each additional cluster provides a smaller net benefit. Use this fact to select a final number of clusters in which to group the data. **Warning**: because of the large size of the dataset, it can take a long time for the algorithm to resolve. The more clusters to fit, the longer the algorithm will take. You should test for cluster counts through at least 10 clusters to get the full picture, but you shouldn't need to test for a number of clusters above about 30.\n",
    "- Once you've selected a final number of clusters to use, re-fit a KMeans instance to perform the clustering operation. Make sure that you also obtain the cluster assignments for the general demographics data, since you'll be using them in the final Step 3.3."
   ]
  },
  {
   "cell_type": "code",
   "execution_count": null,
   "metadata": {},
   "outputs": [],
   "source": [
    "# Transform scaled data\n",
    "pca_dataset = pca.transform(azdias_scaled)\n",
    "\n"
   ]
  },
  {
   "cell_type": "code",
   "execution_count": null,
   "metadata": {},
   "outputs": [],
   "source": [
    "# create test_dataset, only used for development of code\n",
    "test_samples = 50_000\n",
    "knn_testset = pca_dataset[:test_samples, :]\n",
    "print(knn_testset.shape)"
   ]
  },
  {
   "cell_type": "code",
   "execution_count": null,
   "metadata": {},
   "outputs": [],
   "source": [
    "from sklearn.cluster import KMeans"
   ]
  },
  {
   "cell_type": "code",
   "execution_count": null,
   "metadata": {},
   "outputs": [],
   "source": [
    "# data = knn_testset  # used for code development\n",
    "data = pca_dataset\n",
    "n_points = data.shape[1]\n",
    "\n",
    "centers = []\n",
    "scores = []\n",
    "\n",
    "# Over a number of different cluster counts...\n",
    "for k in range(10, 30):\n",
    "\n",
    "    # run k-means clustering on the data and...\n",
    "    kmeans_k = KMeans(k)\n",
    "    model = kmeans_k.fit(data)\n",
    "    #labels = model.predict(data)\n",
    "    # compute the average within-cluster distances.\n",
    "    result = abs(model.score(data))/n_points\n",
    "    centers.append(k)\n",
    "    scores.append(result)\n",
    "    \n",
    "    "
   ]
  },
  {
   "cell_type": "code",
   "execution_count": null,
   "metadata": {},
   "outputs": [],
   "source": [
    "# Investigate the change in within-cluster distance across number of clusters.\n",
    "# HINT: Use matplotlib's plot function to visualize this relationship.\n",
    "\n",
    "plt.xlabel('Number of clusters');\n",
    "plt.ylabel('Distance per data point');\n",
    "plt.title('Distance vs. K');\n",
    "\n",
    "plt.plot(centers, scores)\n",
    "plt.show() "
   ]
  },
  {
   "cell_type": "code",
   "execution_count": null,
   "metadata": {},
   "outputs": [],
   "source": [
    "# Re-fit the k-means model with the selected number of clusters and obtain\n",
    "# cluster predictions for the general population demographics data.\n",
    "\n"
   ]
  },
  {
   "cell_type": "markdown",
   "metadata": {},
   "source": [
    "### Discussion 3.1: Apply Clustering to General Population\n",
    "\n",
    "(Double-click this cell and replace this text with your own text, reporting your findings and decisions regarding clustering. Into how many clusters have you decided to segment the population?)"
   ]
  },
  {
   "cell_type": "markdown",
   "metadata": {},
   "source": [
    "### Step 3.2: Apply All Steps to the Customer Data\n",
    "\n",
    "Now that you have clusters and cluster centers for the general population, it's time to see how the customer data maps on to those clusters. Take care to not confuse this for re-fitting all of the models to the customer data. Instead, you're going to use the fits from the general population to clean, transform, and cluster the customer data. In the last step of the project, you will interpret how the general population fits apply to the customer data.\n",
    "\n",
    "- Don't forget when loading in the customers data, that it is semicolon (`;`) delimited.\n",
    "- Apply the same feature wrangling, selection, and engineering steps to the customer demographics using the `clean_data()` function you created earlier. (You can assume that the customer demographics data has similar meaning behind missing data patterns as the general demographics data.)\n",
    "- Use the sklearn objects from the general demographics data, and apply their transformations to the customers data. That is, you should not be using a `.fit()` or `.fit_transform()` method to re-fit the old objects, nor should you be creating new sklearn objects! Carry the data through the feature scaling, PCA, and clustering steps, obtaining cluster assignments for all of the data in the customer demographics data."
   ]
  },
  {
   "cell_type": "code",
   "execution_count": null,
   "metadata": {},
   "outputs": [],
   "source": [
    "# Load in the customer demographics data.\n",
    "\n",
    "# customers = "
   ]
  },
  {
   "cell_type": "code",
   "execution_count": null,
   "metadata": {},
   "outputs": [],
   "source": [
    "# Apply preprocessing, feature transformation, and clustering from the general\n",
    "# demographics onto the customer data, obtaining cluster predictions for the\n",
    "# customer demographics data.\n",
    "\n"
   ]
  },
  {
   "cell_type": "markdown",
   "metadata": {},
   "source": [
    "### Step 3.3: Compare Customer Data to Demographics Data\n",
    "\n",
    "At this point, you have clustered data based on demographics of the general population of Germany, and seen how the customer data for a mail-order sales company maps onto those demographic clusters. In this final substep, you will compare the two cluster distributions to see where the strongest customer base for the company is.\n",
    "\n",
    "Consider the proportion of persons in each cluster for the general population, and the proportions for the customers. If we think the company's customer base to be universal, then the cluster assignment proportions should be fairly similar between the two. If there are only particular segments of the population that are interested in the company's products, then we should see a mismatch from one to the other. If there is a higher proportion of persons in a cluster for the customer data compared to the general population (e.g. 5% of persons are assigned to a cluster for the general population, but 15% of the customer data is closest to that cluster's centroid) then that suggests the people in that cluster to be a target audience for the company. On the other hand, the proportion of the data in a cluster being larger in the general population than the customer data (e.g. only 2% of customers closest to a population centroid that captures 6% of the data) suggests that group of persons to be outside of the target demographics.\n",
    "\n",
    "Take a look at the following points in this step:\n",
    "\n",
    "- Compute the proportion of data points in each cluster for the general population and the customer data. Visualizations will be useful here: both for the individual dataset proportions, but also to visualize the ratios in cluster representation between groups. Seaborn's [`countplot()`](https://seaborn.pydata.org/generated/seaborn.countplot.html) or [`barplot()`](https://seaborn.pydata.org/generated/seaborn.barplot.html) function could be handy.\n",
    "  - Recall the analysis you performed in step 1.1.3 of the project, where you separated out certain data points from the dataset if they had more than a specified threshold of missing values. If you found that this group was qualitatively different from the main bulk of the data, you should treat this as an additional data cluster in this analysis. Make sure that you account for the number of data points in this subset, for both the general population and customer datasets, when making your computations!\n",
    "- Which cluster or clusters are overrepresented in the customer dataset compared to the general population? Select at least one such cluster and infer what kind of people might be represented by that cluster. Use the principal component interpretations from step 2.3 or look at additional components to help you make this inference. Alternatively, you can use the `.inverse_transform()` method of the PCA and StandardScaler objects to transform centroids back to the original data space and interpret the retrieved values directly.\n",
    "- Perform a similar investigation for the underrepresented clusters. Which cluster or clusters are underrepresented in the customer dataset compared to the general population, and what kinds of people are typified by these clusters?"
   ]
  },
  {
   "cell_type": "code",
   "execution_count": null,
   "metadata": {},
   "outputs": [],
   "source": [
    "# Compare the proportion of data in each cluster for the customer data to the\n",
    "# proportion of data in each cluster for the general population.\n",
    "\n"
   ]
  },
  {
   "cell_type": "code",
   "execution_count": null,
   "metadata": {},
   "outputs": [],
   "source": [
    "# What kinds of people are part of a cluster that is overrepresented in the\n",
    "# customer data compared to the general population?\n",
    "\n"
   ]
  },
  {
   "cell_type": "code",
   "execution_count": null,
   "metadata": {},
   "outputs": [],
   "source": [
    "# What kinds of people are part of a cluster that is underrepresented in the\n",
    "# customer data compared to the general population?\n",
    "\n"
   ]
  },
  {
   "cell_type": "markdown",
   "metadata": {},
   "source": [
    "### Discussion 3.3: Compare Customer Data to Demographics Data\n",
    "\n",
    "(Double-click this cell and replace this text with your own text, reporting findings and conclusions from the clustering analysis. Can we describe segments of the population that are relatively popular with the mail-order company, or relatively unpopular with the company?)"
   ]
  },
  {
   "cell_type": "markdown",
   "metadata": {},
   "source": [
    "> Congratulations on making it this far in the project! Before you finish, make sure to check through the entire notebook from top to bottom to make sure that your analysis follows a logical flow and all of your findings are documented in **Discussion** cells. Once you've checked over all of your work, you should export the notebook as an HTML document to submit for evaluation. You can do this from the menu, navigating to **File -> Download as -> HTML (.html)**. You will submit both that document and this notebook for your project submission."
   ]
  },
  {
   "cell_type": "code",
   "execution_count": null,
   "metadata": {},
   "outputs": [],
   "source": []
  }
 ],
 "metadata": {
  "kernelspec": {
   "display_name": "Python 3",
   "language": "python",
   "name": "python3"
  },
  "language_info": {
   "codemirror_mode": {
    "name": "ipython",
    "version": 3
   },
   "file_extension": ".py",
   "mimetype": "text/x-python",
   "name": "python",
   "nbconvert_exporter": "python",
   "pygments_lexer": "ipython3",
   "version": "3.6.3"
  }
 },
 "nbformat": 4,
 "nbformat_minor": 2
}
